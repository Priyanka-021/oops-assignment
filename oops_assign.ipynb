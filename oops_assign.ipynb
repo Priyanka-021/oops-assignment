{
  "nbformat": 4,
  "nbformat_minor": 0,
  "metadata": {
    "colab": {
      "provenance": []
    },
    "kernelspec": {
      "name": "python3",
      "display_name": "Python 3"
    },
    "language_info": {
      "name": "python"
    }
  },
  "cells": [
    {
      "cell_type": "markdown",
      "source": [
        "#**Python OOPs Questions**\n"
      ],
      "metadata": {
        "id": "MEJbg_i3BImN"
      }
    },
    {
      "cell_type": "markdown",
      "source": [
        "**1.What is Object-Oriented Programming (OOP)?**\n",
        "\n",
        "\n",
        "Object-Oriented Programming (OOP) is a programming based on the concept of objects, which uses property (attributes) and behavior (methods). It helps in organizing and structuring code to improve reusability, scalability, and maintainability.\n"
      ],
      "metadata": {
        "id": "aKnXzIitBfIS"
      }
    },
    {
      "cell_type": "markdown",
      "source": [
        "**2 What is a class in OOP?**\n",
        "\n",
        "  Class are blueprint/ template for creating an object. class  are original template in oop.\n"
      ],
      "metadata": {
        "id": "cFqrMJa-It1j"
      }
    },
    {
      "cell_type": "markdown",
      "source": [
        "**3.What is an object in OOP?**\n",
        "\n",
        "\n",
        " An object is an instance of a class that contains data (attributes) and behavior (methods). Objects represent real-world entities like a car, a person, or a bank account.\n",
        "\n"
      ],
      "metadata": {
        "id": "ANuLbstMKJfT"
      }
    },
    {
      "cell_type": "markdown",
      "source": [
        "**4.What is the difference between abstraction and encapsulation?**\n",
        "        \n",
        "  Abstraction is the process of hiding implementation details and showing only the necessary features of an object. It simplifies complex systems by exposing only relevant details to the user.  \n",
        "  Encapsulation is the process of bundling data (variables) and methods (functions) into a single unit (class) and restricting direct access to some of the object's details. It protects data from unintended modifications and ensures controlled access through getters and setters.\n",
        "\n"
      ],
      "metadata": {
        "id": "ncNwz7a1czwL"
      }
    },
    {
      "cell_type": "markdown",
      "source": [
        "**5.What are dunder methods in Python?**\n",
        "  \n",
        "\n",
        "  Dunder method /magic method/ sepcial method are the methods define by built-in class in python. Classes define these type of methods for creating custom objects for init it means data for every object. Implemeting operators overloading in python. All metod surrounding by __init__() double underscore is a dunder method.\n",
        "\n",
        "\n",
        "\n",
        "\n",
        "**6.Explain the concept of inheritance in OOP?**\n",
        "\n",
        "   Inheritance refers to process of child class receiving the properties of parent class. The reuse of code is inheritance's main goal. Instead of starting from scratch when developing a new class, we can use the existing class, instead of recreating from scratch.\n",
        "    \n",
        "\n",
        "**7.What is polymorphism in OOP?**\n",
        "\n",
        "  Polymorphism in OOP refers to an object taking several forms depending on the methods/data. In it function is taking several forms with respect to different data passed.\n",
        "\n",
        "\n",
        "**8.How is encapsulation achieved in Python?**\n",
        "\n",
        "  \n",
        "   Encapsulation in python is achieved by double underscore prior to variable for private member, for protect use single underscore and for public there is nothing sepcific use diurectly variable and called, while using private for control access getter and setter metods are used also @property decorators are used.\n",
        "\n",
        "   \n",
        "\n",
        "\n",
        "**9.What is a constructor in Python?**\n",
        "   \n",
        "\n",
        "   A constructor in Python is a special method used to initialize objects when a class is instantiated. In Python, the constructor method is defined using __init__().\n",
        "\n",
        "\n",
        "   \n",
        "\n",
        "  \n",
        "**10.What are class and static methods in Python?**\n",
        "\n",
        "\n",
        "   Class method bound to the class and not to a particular instance of the class, access/modify methods and attributes associated to the class accross all the instances. In class method instead of self,cls as first parameter used. In static method it doesn't modify class or instance or class state does not access instance or class state. It doesn't behave like a plain function that belongs to class, it does not take cls or self and work with parameter passed.\n",
        "\n",
        "   \n",
        "\n",
        "\n",
        "**11.What is method overloading in Python?**\n",
        "\n",
        " Method overloading is practice of invoking the same method more than once with the different parameters. Method overlading is npt supported by python.Even if overload python pnly takes into account the most recent definition.\n",
        "\n",
        "\n",
        "**12.What is method overriding in OOP?**\n",
        "  \n",
        "\n",
        "  Method overriding in OOP is the process of providing a different implemention for a method that is already defined in the superclass with in the subclass.It enables the subclass to define its own version of method with the same name and parameter as the method in the superclass. When a method is overridden, the subclass implements the methods in its own way, which overrides the behaviour defined in the superclass.\n",
        "\n",
        "**13.What is a property decorator in Python?**\n",
        "\n",
        "\n",
        "  Decorators allow to modify or extend the behaviour of functions/class without directly modifying their original code. It allows method to be accessed as attribute. It is used to define getter method in a class.\n",
        "\n",
        "\n",
        "**14.Why is polymorphism important in OOP?**\n",
        "\n",
        "   Polymorphism is important in Object-Oriented Programming (OOP) because it allows objects of different classes to be treated as objects of a common superclass, making code more flexible, reusable, and maintainable. It is important because of -:\n",
        "   1.You can write functions that work on the superclass, and they will automatically work on any subclass.\n",
        "   2.You don't need to write multiple versions of the same function for different types.\n",
        "   3.New classes can be added without changing existing code, as long as they follow the interface or base class.\n",
        "   4.Changes can be made in a subclass without affecting the rest of the system.\n",
        "   \n",
        "\n",
        "**15.What is an abstract class in Python?**\n",
        "\n",
        "\n",
        "     An abstract class in Python is a class that cannot be instantiated directly and is used to define a common interface for its subclasses. It can contain abstract methods (methods without implementation) that must be implemented by any subclass.\n",
        "\n",
        "\n",
        "**16.What are the advantages of OOP?**\n",
        "\n",
        "   Oops helps to arrange the required functions in respective classes. other advantages are- :\n",
        "   1.Modularity\n",
        "   Code is organized into classes and objects, making it easier to manage and understand.\n",
        "   Each class is self-contained with its own data and methods.\n",
        "   2.Reusability\n",
        "   Inheritance allows you to reuse existing code by creating new classes based on existing ones.\n",
        "   Avoids code duplication and saves development time.\n",
        "   3.Encapsulation\n",
        "   Data and methods are bundled together.\n",
        "   Internal object details are hidden from outside access, which protects data and ensures better control.\n",
        "   4.Polymorphism\n",
        "   Functions or methods can behave differently depending on the object.\n",
        "   Allows for flexible and easily extendable code (e.g., same method name with different behaviors in subclasses).\n",
        "   5.Scalability and Maintainability\n",
        "   OOP code is easier to modify, extend, or debug.\n",
        "   Promotes clean structure and separation of concerns.\n",
        "   6.Abstraction\n",
        "   Only essential features are exposed; complex implementation details are hidden.\n",
        "   Makes software easier to use and maintain.\n",
        "\n",
        "**17.What is the difference between a class variable and an instance variable?**\n",
        "\n",
        "  class variables and instance variables are both used to store data in classes.\n",
        "  Class Variable belongs to the class itself. Shared by all instances of the class. Defined outside any methods, usually directly under the class. On the other side Instance Variable belongs to the specific object (instance). Unique to each object. Usually defined using self inside the __init__ method\n",
        "\n",
        "**18.What is multiple inheritance in Python?**\n",
        "\n",
        "   Multiple inheritance means one child class may inherit the property of multiple parent class eg-: parent 1 and parent 2, child inhehrit both the property.\n",
        "\n",
        "**19.Explain the purpose of ‘’__str__’ and ‘__repr__’ ‘ methods in Python?**\n",
        "\n",
        "   __str__ this method is called when the str() function is used on an instance of the class, it should return a string representation of the object.\n",
        "   __repr__ this method is called when the repr() function is used on an instance of the class, it should return an unambiguous string representation of the object, Which can be used to recreate the object.\n",
        "\n",
        "**20.What is the significance of the ‘super()’ function in Python?**\n",
        "\n",
        "   The super() function in Python is used to call methods from a parent in a child— especially useful when working with inheritance.\n",
        "   Avoids code duplication\n",
        "   You can reuse the parent class's methods instead of rewriting them.\n",
        "   Ensures proper initialization\n",
        "   Useful in constructors (__init__) to initialize the parent class.\n",
        "   Supports multiple inheritance\n",
        "   super() works with Python's Method Resolution Order (MRO) to call the right method in complex inheritance trees.\n",
        "\n",
        "**21.What is the significance of the __del__ method in Python?**\n",
        "\n",
        "   The __del__ method in Python is a destructor — it's called automatically when an object is about to be destroyed (i.e., when it is garbage collected).\n",
        "   To clean up resources (e.g., closing files, releasing network connections, freeing memory).\n",
        "\n",
        "\n",
        "**22.What is the difference between @staticmethod and @classmethod in Python?**\n",
        "\n",
        "     @class method is bound to the class and not to a particular instance of the class so it can be access /modify methods and attributes associated to the class accross all the instances. It take cls.\n",
        "     \n",
        "     @static method does not modify class or instance or class state, does not access instance or class state. It behave like plain function that belongs to class. It doesn't take cls or self. Works with parameter passed. It  doesn't depends on class/instance.\n",
        "\n",
        "**23.How does polymorphism work in Python with inheritance?**\n",
        "\n",
        "     Polymorphism in Python with inheritance means that a single method can behave differently depending on the object (or class) that's using it. This is made possible when child classes override methods from a parent class.\n",
        "\n",
        "**24.What is method chaining in Python OOP?**\n",
        "\n",
        "   Method chaining in Python OOP is a technique where you call multiple methods on the same object in a single line, one after the other. This is done by having each method return self, which refers to the current object.\n",
        "\n",
        "**25.What is the purpose of the __call__ method in Python?**\n",
        "\n",
        "  The __call__ method in Python allows an instance of a class to be called like a function. When you \"call\" an object using parentheses (), Python internally calls its __call__ method.\n",
        "\n"
      ],
      "metadata": {
        "id": "SXgUSIEJlspT"
      }
    },
    {
      "cell_type": "markdown",
      "source": [
        "# **Practical** **Questions**"
      ],
      "metadata": {
        "id": "009mTBIiqF8W"
      }
    },
    {
      "cell_type": "markdown",
      "source": [
        "**1. Create a parent class Animal with a method speak() that prints a generic message. Create a child class Dog\n",
        "that overrides the speak() method to print \"Bark!\".**\n",
        "\n",
        "\n"
      ],
      "metadata": {
        "id": "RqXboSkRqgrS"
      }
    },
    {
      "cell_type": "code",
      "source": [
        "class Animal:\n",
        "    def speak(self):\n",
        "        print(\"animal sound\")\n",
        "\n",
        "class Dog(Animal):\n",
        "    def speak(self):\n",
        "        print(\"Bark!\")\n",
        "    def dog(self):\n",
        "      print(\"Bark!\")"
      ],
      "metadata": {
        "id": "MyRPITRt1lto"
      },
      "execution_count": null,
      "outputs": []
    },
    {
      "cell_type": "code",
      "source": [
        "obj = Dog()\n",
        "obj.speak()"
      ],
      "metadata": {
        "colab": {
          "base_uri": "https://localhost:8080/"
        },
        "id": "KD7c-vQs2pir",
        "outputId": "e5130356-da93-497d-8fc3-1111bdcf10ca"
      },
      "execution_count": null,
      "outputs": [
        {
          "output_type": "stream",
          "name": "stdout",
          "text": [
            "Bark!\n"
          ]
        }
      ]
    },
    {
      "cell_type": "markdown",
      "source": [
        "**2. Write a program to create an abstract class Shape with a method area(). Derive classes Circle and Rectangle\n",
        "from it and implement the area() method in both.**\n",
        "\n",
        "\n"
      ],
      "metadata": {
        "id": "G0UeiCuRq4D5"
      }
    },
    {
      "cell_type": "code",
      "source": [
        "import abc\n",
        "class Shape:\n",
        "  @abc.abstractmethod\n",
        "  def area(self):\n",
        "    pass\n",
        "\n",
        "class Circle(Shape):\n",
        "  def __init__(self,radius):\n",
        "    self.radius = radius\n",
        "  def area(self):\n",
        "    return 3.14*self.radius*self.radius\n",
        "class Rectangle(Shape):\n",
        "  def __init__(self,length,bredth):\n",
        "    self.bredth = bredth\n",
        "    self.lenght = length\n",
        "  def area(self):\n",
        "\n",
        "    return self.lenght*self.bredth"
      ],
      "metadata": {
        "id": "Kqs1RwGh2_tC"
      },
      "execution_count": null,
      "outputs": []
    },
    {
      "cell_type": "code",
      "source": [
        "c= Circle(5)\n",
        "c.area()"
      ],
      "metadata": {
        "colab": {
          "base_uri": "https://localhost:8080/"
        },
        "id": "h9YYRs2jC9LB",
        "outputId": "1aa378ad-f72f-4b9e-f46a-e8cea4ea8471"
      },
      "execution_count": null,
      "outputs": [
        {
          "output_type": "execute_result",
          "data": {
            "text/plain": [
              "78.5"
            ]
          },
          "metadata": {},
          "execution_count": 15
        }
      ]
    },
    {
      "cell_type": "code",
      "source": [
        "r= Rectangle(5,6)\n",
        "r.area()"
      ],
      "metadata": {
        "colab": {
          "base_uri": "https://localhost:8080/"
        },
        "id": "LA0MGmpOC9IS",
        "outputId": "9da217d2-27d5-4767-d177-43986b5dc593"
      },
      "execution_count": null,
      "outputs": [
        {
          "output_type": "execute_result",
          "data": {
            "text/plain": [
              "30"
            ]
          },
          "metadata": {},
          "execution_count": 16
        }
      ]
    },
    {
      "cell_type": "markdown",
      "source": [
        "**3. Implement a multi-level inheritance scenario where a class Vehicle has an attribute type. Derive a class Car\n",
        "and further derive a class ElectricCar that adds a battery attribute.**\n",
        "\n",
        "\n",
        "\n",
        "\n"
      ],
      "metadata": {
        "id": "83Av0iWmrBDf"
      }
    },
    {
      "cell_type": "code",
      "source": [
        "class Vehicle:\n",
        "  def __init__(self,type):\n",
        "    self.type = type\n",
        "class Car(Vehicle):\n",
        "  def __init__(self,type,model):\n",
        "    self.type = type\n",
        "    self.model = model\n",
        "class ElectricCar(Car):\n",
        "  def __init__(self,type,model,battery):\n",
        "    self.type = type\n",
        "    self.model = model\n",
        "    self.battery = battery"
      ],
      "metadata": {
        "id": "IqhEMcP6-S5u"
      },
      "execution_count": null,
      "outputs": []
    },
    {
      "cell_type": "code",
      "source": [
        "ev= ElectricCar(\"Electric\",\"Tesla\",\"100KWH\")\n",
        "ev.battery"
      ],
      "metadata": {
        "colab": {
          "base_uri": "https://localhost:8080/",
          "height": 35
        },
        "id": "Rw0qKIP2_ebN",
        "outputId": "17f07adc-3cc3-4945-fff2-a483aa250d93"
      },
      "execution_count": null,
      "outputs": [
        {
          "output_type": "execute_result",
          "data": {
            "text/plain": [
              "'100KWH'"
            ],
            "application/vnd.google.colaboratory.intrinsic+json": {
              "type": "string"
            }
          },
          "metadata": {},
          "execution_count": 12
        }
      ]
    },
    {
      "cell_type": "markdown",
      "source": [
        "**4. Demonstrate polymorphism by creating a base class Bird with a method fly(). Create two derived classes\n",
        "Sparrow and Penguin that override the fly() method.**\n",
        "\n",
        "\n"
      ],
      "metadata": {
        "id": "gvrwD-LurQO8"
      }
    },
    {
      "cell_type": "code",
      "source": [
        "class Bird():\n",
        "  def fly(self):\n",
        "    print(\"Bird can fly\")\n",
        "class Sparrow(Bird):\n",
        "  def fly(self):\n",
        "    print(\"Sparrow can fly\")\n",
        "class Penguin(Bird):\n",
        "  def fly(self):\n",
        "    print(\"Penguin can't fly\")"
      ],
      "metadata": {
        "id": "4Hittj2hNAEI"
      },
      "execution_count": null,
      "outputs": []
    },
    {
      "cell_type": "code",
      "source": [
        "obj= Sparrow()\n",
        "obj.fly()"
      ],
      "metadata": {
        "colab": {
          "base_uri": "https://localhost:8080/"
        },
        "id": "nSkO5O6zNUcW",
        "outputId": "fb2a78aa-ce3d-413d-fd5b-2c6753b692a5"
      },
      "execution_count": null,
      "outputs": [
        {
          "output_type": "stream",
          "name": "stdout",
          "text": [
            "Sparrow can fly\n"
          ]
        }
      ]
    },
    {
      "cell_type": "markdown",
      "source": [
        "**5. Write a program to demonstrate encapsulation by creating a class BankAccount with private attributes\n",
        "balance and methods to deposit, withdraw, and check balance.**\n",
        "\n",
        "\n"
      ],
      "metadata": {
        "id": "-9_3QkKzrZEt"
      }
    },
    {
      "cell_type": "code",
      "source": [
        "class BankAccount:\n",
        "  def __init__(self,balance):\n",
        "    self.__balance = balance\n",
        "  def deposit(self,amount):\n",
        "    self.__balance += amount\n",
        "    return self.__balance\n",
        "  def withdraw(self,amount):\n",
        "    self.__balance -= amount\n",
        "    return self.__balance\n",
        "  def check_balance(self):\n",
        "    return self.__balance"
      ],
      "metadata": {
        "id": "0R6hlLcJNvgK"
      },
      "execution_count": null,
      "outputs": []
    },
    {
      "cell_type": "code",
      "source": [
        "b1= BankAccount(1000)\n",
        "b1.check_balance()\n",
        "b1.deposit(500)\n",
        "b1.check_balance()\n",
        "b1.withdraw(200)\n",
        "b1.check_balance()"
      ],
      "metadata": {
        "colab": {
          "base_uri": "https://localhost:8080/"
        },
        "id": "XsxY-M_pP34Z",
        "outputId": "e14d7a8d-21da-4f4d-e318-e5db4662ee52"
      },
      "execution_count": null,
      "outputs": [
        {
          "output_type": "execute_result",
          "data": {
            "text/plain": [
              "1300"
            ]
          },
          "metadata": {},
          "execution_count": 20
        }
      ]
    },
    {
      "cell_type": "markdown",
      "source": [
        "**6. Demonstrate runtime polymorphism using a method play() in a base class Instrument. Derive classes Guitar\n",
        "and Piano that implement their own version of play().**\n",
        "\n"
      ],
      "metadata": {
        "id": "VTROYi92rp_X"
      }
    },
    {
      "cell_type": "code",
      "source": [
        "class Instrument:\n",
        "  def play(self):\n",
        "    print(\"Instrument is playing\")\n",
        "class Guitar(Instrument):\n",
        "  def play(self):\n",
        "    print(\"Guitar is playing\")\n",
        "class Piano(Instrument):\n",
        "  def play(self):\n",
        "    print(\"Piano is playing\")\n",
        "def start_playing(instrument):\n",
        "    instrument.play()"
      ],
      "metadata": {
        "id": "jl_jC_tWQaf4"
      },
      "execution_count": 3,
      "outputs": []
    },
    {
      "cell_type": "code",
      "source": [
        "start_playing(Guitar())"
      ],
      "metadata": {
        "colab": {
          "base_uri": "https://localhost:8080/"
        },
        "id": "-TUiFUbkRoCq",
        "outputId": "001395ee-f10f-4158-f69a-0f9684fb360f"
      },
      "execution_count": 5,
      "outputs": [
        {
          "output_type": "stream",
          "name": "stdout",
          "text": [
            "Guitar is playing\n"
          ]
        }
      ]
    },
    {
      "cell_type": "markdown",
      "source": [
        "**7. Create a class MathOperations with a class method add_numbers() to add two numbers and a static\n",
        "method subtract_numbers() to subtract two numbers.**\n",
        "\n",
        "\n"
      ],
      "metadata": {
        "id": "63l7xYPlrtgz"
      }
    },
    {
      "cell_type": "code",
      "source": [
        "class MathOperations:\n",
        "  @classmethod\n",
        "  def add_numbers(cls,a,b):\n",
        "    return a+b\n",
        "  @staticmethod\n",
        "  def subtract_numbers(a,b):\n",
        "    return a-b"
      ],
      "metadata": {
        "id": "7IqB8v85SmsT"
      },
      "execution_count": 6,
      "outputs": []
    },
    {
      "cell_type": "code",
      "source": [
        "MathOperations.add_numbers(5,6)\n"
      ],
      "metadata": {
        "colab": {
          "base_uri": "https://localhost:8080/"
        },
        "id": "P2EjRHeRSySx",
        "outputId": "26f3320b-8f0c-4c75-c658-02ad76dbc363"
      },
      "execution_count": 14,
      "outputs": [
        {
          "output_type": "execute_result",
          "data": {
            "text/plain": [
              "11"
            ]
          },
          "metadata": {},
          "execution_count": 14
        }
      ]
    },
    {
      "cell_type": "code",
      "source": [
        "MathOperations.subtract_numbers(5,6)\n"
      ],
      "metadata": {
        "colab": {
          "base_uri": "https://localhost:8080/"
        },
        "id": "bQb4ve-KT9VH",
        "outputId": "698181d5-976f-4690-886e-644326f016c2"
      },
      "execution_count": 16,
      "outputs": [
        {
          "output_type": "execute_result",
          "data": {
            "text/plain": [
              "-1"
            ]
          },
          "metadata": {},
          "execution_count": 16
        }
      ]
    },
    {
      "cell_type": "markdown",
      "source": [
        "**8. Implement a class Person with a class method to count the total number of persons created.**\n",
        "\n",
        "\n"
      ],
      "metadata": {
        "id": "seOz0jDCrwkf"
      }
    },
    {
      "cell_type": "code",
      "source": [
        "class Person:\n",
        "  count = 0\n",
        "  def __init__(self):\n",
        "    Person.count += 1\n",
        "  @classmethod\n",
        "  def total_persons(cls):\n",
        "    return cls.count"
      ],
      "metadata": {
        "id": "JWFZaygmUK76"
      },
      "execution_count": 27,
      "outputs": []
    },
    {
      "cell_type": "code",
      "source": [
        "p1= Person()\n",
        "p2= Person()\n",
        "p3= Person()\n",
        "\n",
        "\n",
        "print(Person.total_persons())\n"
      ],
      "metadata": {
        "colab": {
          "base_uri": "https://localhost:8080/"
        },
        "id": "QlzmY9mQUbua",
        "outputId": "24062d41-6d21-4050-bd4f-bc5ccb82f7e0"
      },
      "execution_count": 28,
      "outputs": [
        {
          "output_type": "stream",
          "name": "stdout",
          "text": [
            "3\n"
          ]
        }
      ]
    },
    {
      "cell_type": "markdown",
      "source": [
        "**9. Write a class Fraction with attributes numerator and denominator. Override the str method to display the fraction as \"numerator/denominator\".**\n",
        "\n",
        "\n"
      ],
      "metadata": {
        "id": "S94_9Llxr5iJ"
      }
    },
    {
      "cell_type": "code",
      "source": [
        "class Fraction:\n",
        "  def __init__(self,numerator,denominator):\n",
        "    self.numerator = numerator\n",
        "    self.denominator = denominator\n",
        "  def __str__(self):\n",
        "    return f\"{self.numerator}/{self.denominator}\""
      ],
      "metadata": {
        "id": "xs7wJOutWzpH"
      },
      "execution_count": 31,
      "outputs": []
    },
    {
      "cell_type": "code",
      "source": [
        "f1= Fraction(3,5)\n",
        "print(f1)"
      ],
      "metadata": {
        "colab": {
          "base_uri": "https://localhost:8080/"
        },
        "id": "ndYB453nZrm_",
        "outputId": "713fef2b-c850-4cc0-aef1-9b112f4a6fa1"
      },
      "execution_count": 33,
      "outputs": [
        {
          "output_type": "stream",
          "name": "stdout",
          "text": [
            "3/5\n"
          ]
        }
      ]
    },
    {
      "cell_type": "markdown",
      "source": [
        "**10. Demonstrate operator overloading by creating a class Vector and overriding the add method to add two vectors.**"
      ],
      "metadata": {
        "id": "K8znnbBEr7Zb"
      }
    },
    {
      "cell_type": "code",
      "source": [
        "class Vector:\n",
        "  def __init__(self,x,y):\n",
        "    self.x = x\n",
        "    self.y = y\n",
        "  def __add__(self,other):\n",
        "    return Vector(self.x+other.x,self.y+other.y)\n",
        "  def __str__(self):\n",
        "      return f\"({self.x},{self.y})\"\n",
        ""
      ],
      "metadata": {
        "id": "eTFPGievZ238"
      },
      "execution_count": 40,
      "outputs": []
    },
    {
      "cell_type": "code",
      "source": [
        "v1 = Vector(2, 3)\n",
        "v2 = Vector(4, 5)\n",
        "\n",
        "v3 = v1 + v2\n",
        "print(\"v3:\", v3)\n"
      ],
      "metadata": {
        "colab": {
          "base_uri": "https://localhost:8080/"
        },
        "id": "NCl5WzmRiNNf",
        "outputId": "57681646-768f-45c2-df42-ce9aa1599d26"
      },
      "execution_count": 42,
      "outputs": [
        {
          "output_type": "stream",
          "name": "stdout",
          "text": [
            "v3: (6,8)\n"
          ]
        }
      ]
    },
    {
      "cell_type": "markdown",
      "source": [
        "**11. Create a class Person with attributes name and age. Add a method greet() that prints \"Hello, my name is\n",
        "{name} and I am {age} years old.\"**\n",
        "\n",
        "\n"
      ],
      "metadata": {
        "id": "iYsYL1RSsF1i"
      }
    },
    {
      "cell_type": "code",
      "source": [
        "class Person:\n",
        "  def __init__(self,name,age):\n",
        "    self.name = name\n",
        "    self.age = age\n",
        "  def greet(self):\n",
        "    print(f\"Hello, my name is {self.name} and I am {self.age} years old.\")"
      ],
      "metadata": {
        "id": "f-i2ZtubsRXj"
      },
      "execution_count": 44,
      "outputs": []
    },
    {
      "cell_type": "code",
      "source": [
        "p1= Person(\"Madhu\",25)\n",
        "p1.greet()"
      ],
      "metadata": {
        "id": "Fl3c-rGXsj_-",
        "outputId": "c346abff-452a-41d7-9946-e1e5f0e9c7a6",
        "colab": {
          "base_uri": "https://localhost:8080/"
        }
      },
      "execution_count": 45,
      "outputs": [
        {
          "output_type": "stream",
          "name": "stdout",
          "text": [
            "Hello, my name is Madhu and I am 25 years old.\n"
          ]
        }
      ]
    },
    {
      "cell_type": "markdown",
      "source": [
        "**12. Implement a class Student with attributes name and grades. Create a method average_grade() to compute\n",
        "the average of the grades.**\n",
        "\n",
        "\n"
      ],
      "metadata": {
        "id": "7t1RVinosXm_"
      }
    },
    {
      "cell_type": "code",
      "source": [
        "class Student:\n",
        "  def __init__(self,name,grades):\n",
        "    self.name = name\n",
        "    self.grades = grades\n",
        "  def average_grade(self):\n",
        "    return sum(self.grades)/len(self.grades)"
      ],
      "metadata": {
        "id": "LDfTNvocsyDA"
      },
      "execution_count": 46,
      "outputs": []
    },
    {
      "cell_type": "code",
      "source": [
        "s1= Student(\"Priya\",[90,80,70])\n",
        "s1.average_grade()"
      ],
      "metadata": {
        "id": "1Nz4z3eqtCyt",
        "outputId": "b7b884f1-5c19-4120-b9b4-d959137c2378",
        "colab": {
          "base_uri": "https://localhost:8080/"
        }
      },
      "execution_count": 48,
      "outputs": [
        {
          "output_type": "execute_result",
          "data": {
            "text/plain": [
              "80.0"
            ]
          },
          "metadata": {},
          "execution_count": 48
        }
      ]
    },
    {
      "cell_type": "markdown",
      "source": [
        "**14. Create a class Employee with a method calculate_salary() that computes the salary based on hours worked\n",
        "and hourly rate. Create a derived class Manager that adds a bonus to the salary.**"
      ],
      "metadata": {
        "id": "MoLtIzZ9sgGT"
      }
    },
    {
      "cell_type": "code",
      "source": [
        "class Employee:\n",
        "  def __init__(self,name,hours_worked,hourly_rate):\n",
        "    self.name = name\n",
        "    self.hours_worked = hours_worked\n",
        "    self.hourly_rate = hourly_rate\n",
        "\n",
        "  def calculate_salary(self):\n",
        "    return self.hours_worked*self.hourly_rate\n",
        "\n",
        "class Manager(Employee):\n",
        "  def __init__(self,name,hours_worked,hourly_rate,bonus):\n",
        "    super().__init__(name,hours_worked,hourly_rate)\n",
        "    self.bonus = bonus\n",
        "\n",
        "    def calculate_salary(self):\n",
        "      return super().calculate_salary() + self.bonus"
      ],
      "metadata": {
        "id": "FxkU9_ostOhK"
      },
      "execution_count": 53,
      "outputs": []
    },
    {
      "cell_type": "code",
      "source": [
        "e1= Manager(\"priya\",42,700,5000)\n",
        "e1.calculate_salary()"
      ],
      "metadata": {
        "id": "q7pi9vd5vj_d",
        "outputId": "b73f9578-bcd7-4a20-c059-30f11db9afc9",
        "colab": {
          "base_uri": "https://localhost:8080/"
        }
      },
      "execution_count": 56,
      "outputs": [
        {
          "output_type": "execute_result",
          "data": {
            "text/plain": [
              "29400"
            ]
          },
          "metadata": {},
          "execution_count": 56
        }
      ]
    },
    {
      "cell_type": "markdown",
      "source": [
        "\n",
        "**16. Create a class Animal with an abstract method sound(). Create two derived classes Cow and Sheep that\n",
        "implement the sound() method.**\n",
        "\n",
        "\n"
      ],
      "metadata": {
        "id": "Puntn6Fcs1Oe"
      }
    },
    {
      "cell_type": "code",
      "source": [
        "class Animal:\n",
        "  def sound(self):\n",
        "    pass\n",
        "class Cow(Animal):\n",
        "  def sound(self):\n",
        "    print(\"Moo\")\n",
        "class Sheep(Animal):\n",
        "  def sound(self):\n",
        "    print(\"Baa\")\n",
        ""
      ],
      "metadata": {
        "id": "EIlrb8lRwoC-"
      },
      "execution_count": 57,
      "outputs": []
    },
    {
      "cell_type": "code",
      "source": [
        "s1= Sheep()\n",
        "s1.sound()"
      ],
      "metadata": {
        "id": "5wuAN8Z2wzKX",
        "outputId": "d1557935-ece6-4208-c254-0782d45b862e",
        "colab": {
          "base_uri": "https://localhost:8080/"
        }
      },
      "execution_count": 58,
      "outputs": [
        {
          "output_type": "stream",
          "name": "stdout",
          "text": [
            "Baa\n"
          ]
        }
      ]
    },
    {
      "cell_type": "markdown",
      "source": [
        "**17. Create a class Book with attributes title, author, and year_published. Add a method get_book_info() that\n",
        "returns a formatted string with the book's details.**\n",
        "\n"
      ],
      "metadata": {
        "id": "Gja4thOJs3aZ"
      }
    },
    {
      "cell_type": "code",
      "source": [
        "class Book:\n",
        "  def __init__(self,title,author,year_published):\n",
        "    self.title = title\n",
        "    self.author = author\n",
        "    self.year_published = year_published\n",
        "\n",
        "  def get_book_info(self):\n",
        "    return f\"Title: {self.title}\\nAuthor: {self.author}\\nYear Published: {self.year_published}\"\n",
        ""
      ],
      "metadata": {
        "id": "yOETcZZtw5uv"
      },
      "execution_count": 59,
      "outputs": []
    },
    {
      "cell_type": "code",
      "source": [
        "b1= Book(\"Geet-Govind\",\"jaydev\",1220)\n",
        "print(b1.get_book_info())"
      ],
      "metadata": {
        "id": "_Rw0lykCxSu-",
        "outputId": "1d70c8ce-5d0b-4444-d15b-f0eb0a5d866d",
        "colab": {
          "base_uri": "https://localhost:8080/"
        }
      },
      "execution_count": 60,
      "outputs": [
        {
          "output_type": "stream",
          "name": "stdout",
          "text": [
            "Title: Geet-Govind\n",
            "Author: jaydev\n",
            "Year Published: 1220\n"
          ]
        }
      ]
    },
    {
      "cell_type": "markdown",
      "source": [
        "\n",
        "**18. Create a class House with attributes address and price. Create a derived class Mansion that adds an\n",
        "attribute number_of_rooms.**"
      ],
      "metadata": {
        "id": "RH2nWBhgs6hq"
      }
    },
    {
      "cell_type": "code",
      "source": [
        "class House:\n",
        "  def __init__(self,address,price):\n",
        "    self.address = address\n",
        "    self.price = price\n",
        "class Mansion(House):\n",
        "  def __init__(self,address,price,number_of_rooms):\n",
        "    super().__init__(address,price)\n",
        "    self.number_of_rooms = number_of_rooms\n",
        "  def get_house_info(self):\n",
        "    return f\"Address: {self.address}\\nPrice: {self.price}\\nNumber of Rooms: {self.number_of_rooms}\"\n"
      ],
      "metadata": {
        "id": "oEHZ_WOIxjWQ"
      },
      "execution_count": 62,
      "outputs": []
    },
    {
      "cell_type": "code",
      "source": [
        "h1= Mansion(\"bindgi\",1000000,5)\n",
        "print(h1.get_house_info())"
      ],
      "metadata": {
        "id": "17bPpPptxznV",
        "outputId": "00dea891-68eb-41b4-9485-19f0453c7bae",
        "colab": {
          "base_uri": "https://localhost:8080/"
        }
      },
      "execution_count": 63,
      "outputs": [
        {
          "output_type": "stream",
          "name": "stdout",
          "text": [
            "Address: bindgi\n",
            "Price: 1000000\n",
            "Number of Rooms: 5\n"
          ]
        }
      ]
    },
    {
      "cell_type": "code",
      "source": [],
      "metadata": {
        "id": "oi9xkcUdymzR"
      },
      "execution_count": null,
      "outputs": []
    }
  ]
}